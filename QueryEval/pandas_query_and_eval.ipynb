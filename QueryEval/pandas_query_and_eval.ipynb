{
  "nbformat": 4,
  "nbformat_minor": 0,
  "metadata": {
    "colab": {
      "provenance": []
    },
    "kernelspec": {
      "name": "python3",
      "display_name": "Python 3"
    },
    "language_info": {
      "name": "python"
    }
  },
  "cells": [
    {
      "cell_type": "markdown",
      "source": [
        "# Level up your Pandas with `df.query` and `df.eval`\n",
        "10/25/2023\n",
        "\n",
        "<br>\n",
        "<br>\n",
        "<br>\n",
        "\n",
        "This notebook introduces students to `df.query` and `df.eval`. These are some reasons why you may want to learn these functions:\n",
        "- You may prefer this syntax, particularly `df.query` if you have a background in SQL.\n",
        "- There may be some [efficiency gains](https://jakevdp.github.io/PythonDataScienceHandbook/03.12-performance-eval-and-query.html).\n",
        "- You may encounter this syntax in other people's code, so it's important to be familiar with it.\n",
        "\n",
        "<br>\n",
        "<br>\n",
        "\n",
        "This notebook assumes that students are already familiar with basic Python and Pandas. *The code cells include lots of comments and links for you to better understand the code or learn more about it. The end of the notebook also includes resources for further learning.*\n",
        "\n",
        "<br>\n",
        "<br>\n",
        "<br>\n",
        "\n",
        "## Importing libraries that we're going to use"
      ],
      "metadata": {
        "id": "nPuJS5Juneyt"
      }
    },
    {
      "cell_type": "code",
      "source": [
        "# Main library for this tutorial, which includes df.query and df.eval\n",
        "import pandas as pd\n",
        "# Using for nan and sort\n",
        "import numpy as np\n",
        "# Using for data for exercises\n",
        "from sklearn.datasets import load_iris"
      ],
      "metadata": {
        "id": "ljbqikCDq1d_"
      },
      "execution_count": null,
      "outputs": []
    },
    {
      "cell_type": "markdown",
      "source": [
        "<br>\n",
        "<br>\n",
        "<br>\n",
        "\n",
        "## Loading and cleaning data *for the examples*\n",
        "\n",
        "**You don't need to download these data** (although you can if you want). **The exercises will use different data.**\n",
        "\n",
        "[2022 National Health Interview Survey](https://www.cdc.gov/nchs/nhis/2022nhis.htm)\n",
        "- [Summary](https://ftp.cdc.gov/pub/Health_Statistics/NCHS/Dataset_Documentation/NHIS/2022/adult-summary.pdf)\n",
        "- [Codebook](https://ftp.cdc.gov/pub/Health_Statistics/NCHS/Dataset_Documentation/NHIS/2022/adult-codebook.pdf)\n",
        "- [URL **that automatically downloads the data TO YOUR COMPUTER**](https://ftp.cdc.gov/pub/Health_Statistics/NCHS/Datasets/NHIS/2022/adult22csv.zip)\n",
        "<br>\n",
        "<br>\n",
        "\n",
        "These data will allow us to (non-exhaustively and non-rigorously) explore some questions about meditation:\n",
        "- What percentage of American adults meditate?\n",
        "- What percentage of college-age American adults meditate?\n",
        "- How about in large metropolitan areas?\n",
        "- Does it depend on the number of people living in the household?\n",
        "\n",
        "<br>\n",
        "\n",
        "Side note: meditation has various [benefits](https://www.mayoclinic.org/tests-procedures/meditation/in-depth/meditation/art-20045858). If you're interested to learn, there's [meditation at Northwestern](https://www.northwestern.edu/religious-life/explore-our-programs/mindfulness/), including [guided meditations on the go](https://www.northwestern.edu/breathe/)."
      ],
      "metadata": {
        "id": "DbwCMoi_42xl"
      }
    },
    {
      "cell_type": "code",
      "source": [
        "# Loading the data into this notebook (not your computer) from GitHub\n",
        "# https://www.geeksforgeeks.org/ways-to-import-csv-files-in-google-colab/\n",
        "# https://github.com/orgs/community/discussions/22537\n",
        "url_data = 'https://raw.githubusercontent.com/emiliolehoucq/trainings/main/data/nhis_2022_data.csv'\n",
        "df = pd.read_csv(url_data)\n",
        "\n",
        "# Making sure the data looks ok\n",
        "df.head()"
      ],
      "metadata": {
        "id": "JZnbtTRw0IUO"
      },
      "execution_count": null,
      "outputs": []
    },
    {
      "cell_type": "markdown",
      "source": [
        "We're recoding or dropping some values for the sake of clarity and convenience.\n",
        "\n",
        "This is not part of the material for this notebook, so don't worry if you don't understand everything. You can always come back to this part on your own if you want to practice reading and making sense of Pandas code."
      ],
      "metadata": {
        "id": "jTOqy4jLAtXD"
      }
    },
    {
      "cell_type": "code",
      "source": [
        "\"\"\"\n",
        "Variables about meditation that we're going to use:\n",
        "\n",
        "MEDITATE_A\n",
        "Meditation includes Mindfulness, Mantra, and Spiritual meditation. In meditation a person focuses, stills, or quiets the mind. During the past 12 months, did you use any of these types of meditation?\n",
        "Asked if HHSTAT_A = 1 (Indicates person is the Sample Adult)\n",
        "1 = Yes\n",
        "2 = No\n",
        "7 = Refused\n",
        "8 = Not Ascertained\n",
        "9 = Don't know\n",
        "\n",
        "MEDIHLTH_A\n",
        "During the past 12 months, did you use meditation ... to restore your overall health?\n",
        "Asked if HHSTAT_A = 1 and MEDITATE_A = 1\n",
        "1 = Yes\n",
        "2 = No\n",
        "7 = Refused\n",
        "8 = Not Ascertained\n",
        "9 = Don't know\n",
        "\n",
        "YOGAMED_A\n",
        "Did you do meditation as part of Yoga?\n",
        "Asked if HHSTAT_A = 1 and YOGA_A = 1\n",
        "1 = Yes\n",
        "2 = No\n",
        "7 = Refused\n",
        "8 = Not Ascertained\n",
        "9 = Don't know\n",
        "\"\"\"\n",
        "\n",
        "# Iterating over columns of interest to replace values\n",
        "# This would be useful if you were dealing with a larger number of similar columns\n",
        "\n",
        "# Creating list to store names and descriptions of columns of interest\n",
        "columns_of_interest = ['MEDITATE_A', 'MEDIHLTH_A', 'YOGAMED_A']\n",
        "\n",
        "# Creating lists to store original and replacement values\n",
        "original_values = [1, 2, 7, 8, 9]\n",
        "replacement_values = ['Yes', 'No', np.nan, np.nan, np.nan]\n",
        "\n",
        "# Iterating replacing values\n",
        "for column_name in columns_of_interest:\n",
        "  # https://pandas.pydata.org/docs/reference/api/pandas.DataFrame.replace.html\n",
        "  df[column_name].replace(original_values, replacement_values, inplace = True)\n",
        "\n",
        "# Replacing values for other columns\n",
        "\n",
        "# 2013 NCHS Urban-Rural Classification Scheme for Counties\n",
        "# 1 = Large central metro\n",
        "# 2 = Large fringe metro\n",
        "# 3 = Medium and small metro\n",
        "# 4 = Nonmetropolitan\n",
        "# Note: \"Large\" = 1M or more\n",
        "df['URBRRL'].replace(\n",
        "    [1, 2, 3, 4],\n",
        "    ['Large central metro', 'Large fringe metro', 'Medium and small metro', 'Nonmetropolitan'],\n",
        "    inplace = True\n",
        ")\n",
        "\n",
        "# Age of SA (top coded)\n",
        "# Asked if HHSTAT_A = 1\n",
        "# 18 - 84: age\n",
        "# 85 = 85+ years\n",
        "# 97 = refused\n",
        "# 98 = Not ascertained\n",
        "# 99 = Don't know\n",
        "df[df['AGEP_A'] > 84] = np.nan\n",
        "\n",
        "# Number of adults in Sample Adult family, top-coded 3+\n",
        "# Asked if HHSTAT_A = 1\n",
        "# 1 = 1 adult\n",
        "# 2 = 2 adult\n",
        "# 3 = 3+ adult\n",
        "# 8 = Not ascertained\n",
        "df[df['PCNTADLT_A'] > 2] = np.nan\n",
        "\n",
        "# Number of children in Sample Adult family, top-coded 3+\n",
        "# Asked if HHSTAT_A = 1\n",
        "# 0 = 0 children\n",
        "# 1 = 1 child\n",
        "# 2 = 2 children\n",
        "# 3 = 3+ children\n",
        "# 8 = Not ascertained\n",
        "df[df['PCNTKIDS_A'] > 2] = np.nan"
      ],
      "metadata": {
        "id": "Y6-jVs6CBNtm"
      },
      "execution_count": null,
      "outputs": []
    },
    {
      "cell_type": "markdown",
      "source": [
        "<br>\n",
        "<br>\n",
        "<br>\n",
        "\n",
        "## Loading and cleaning data *for the exercises*\n",
        "\n",
        "For the exercises we're using the [Iris plants dataset from Scikit-Learn](https://scikit-learn.org/stable/datasets/toy_dataset.html#iris-plants-dataset).\n",
        "\n",
        "<br>\n",
        "<br>\n",
        "\n",
        "**Please do run the cell below so that you can do the exercises later.** Again, no worries if you don't understand everything, since it's not part of the materials for this notebook. Feel free to come back later on your own.\n",
        "\n",
        "<br>\n",
        "<br>\n",
        "\n",
        "This is the way to load and clean the data (for this notebook, the key aspect is that `df.query` seems to not be able to handle column names with parentheses):"
      ],
      "metadata": {
        "id": "BVTx84LLBfTb"
      }
    },
    {
      "cell_type": "code",
      "source": [
        "# Loading the data\n",
        "# https://scikit-learn.org/stable/modules/generated/sklearn.datasets.load_iris.html#sklearn.datasets.load_iris\n",
        "df_exercises = load_iris(as_frame = True)['frame']\n",
        "\n",
        "# Recoding the target column\n",
        "df_exercises['target'].replace([0, 1, 2], ['setosa', 'versicolour', 'virginica'], inplace = True)\n",
        "\n",
        "# Renaming columns\n",
        "# DF.QUERY SEEMS TO NOT BE ABLE TO HANDLE COLUMN NAMES WITH PARENTHESES\n",
        "# https://stackoverflow.com/questions/59422725/query-function-not-working-with-spaces-and-parenthesis-in-column-names\n",
        "# https://github.com/pandas-dev/pandas/issues/49633\n",
        "df_exercises.rename(\n",
        "    columns = {\n",
        "    \"sepal length (cm)\": \"sepal length\",\n",
        "    \"sepal width (cm)\": \"sepal width\",\n",
        "    \"petal length (cm)\": \"petal_length\",\n",
        "    \"petal width (cm)\": \"petal_width\"\n",
        "    },\n",
        "    inplace = True\n",
        ")\n",
        "\n",
        "# Making sure the data looks ok\n",
        "df_exercises"
      ],
      "metadata": {
        "id": "dTqOJpiwBhLV"
      },
      "execution_count": null,
      "outputs": []
    },
    {
      "cell_type": "markdown",
      "source": [
        "<br>\n",
        "<br>\n",
        "<br>\n",
        "\n",
        "## `df.query`\n",
        "\n",
        "`df.query` is one way to filter rows of a Pandas DataFrame.<br> <br>\n",
        "As previously explained, you may prefer `df.query` if you have a background in SQL. You may also find it more intuitive or encounter it in other people's code. Finally, there could be some [efficiency gains](https://jakevdp.github.io/PythonDataScienceHandbook/03.12-performance-eval-and-query.html).<br><br>\n",
        "You're probably already familiar with the most common way to filter rows, using `[...]`. You may have also learned about [`df.loc` and `df.iloc`](https://www.geeksforgeeks.org/difference-between-loc-and-iloc-in-pandas-dataframe/). This is an example of the most common way to filter rows:"
      ],
      "metadata": {
        "id": "YxKMFau69K86"
      }
    },
    {
      "cell_type": "code",
      "source": [
        "df[df['MEDITATE_A'] == \"Yes\"]"
      ],
      "metadata": {
        "id": "oTu8ZcVwINWN"
      },
      "execution_count": null,
      "outputs": []
    },
    {
      "cell_type": "markdown",
      "source": [
        "In this code, we are first selecting a column from the DataFrame (`df['MEDITATE_A']`). We're then specifying a condition to filter that column (`== \"Yes\"`). Finally, we're filtering the whole DataFrame based on that condition (`df[...]`).<br><br>\n",
        "\n",
        "`df.query` is similar in that you need to specify the column and the filter that you want to apply to that column. However, the syntax is a bit different.\n",
        "\n",
        "<br>\n",
        "<br>\n",
        "\n",
        "**Filtering on one condition:**\n",
        "\n",
        "This is how you'd rewrite the example above using `df.query`:"
      ],
      "metadata": {
        "id": "Up3-RbywIJsP"
      }
    },
    {
      "cell_type": "code",
      "source": [
        "df.query('MEDITATE_A == \"Yes\"')"
      ],
      "metadata": {
        "id": "HszAhykXJ24g"
      },
      "execution_count": null,
      "outputs": []
    },
    {
      "cell_type": "markdown",
      "source": [
        "Notice four things:\n",
        "- `query` is a method of Pandas DataFrames, so you use the syntax `df.query()`.\n",
        "- The query goes in quotation marks. You can use `'` or `\"`. Be mindful of whether you're including strings inside of the query.\n",
        "- `query` returns a DataFrame. You can do all sorts of other operations on that DataFrame.\n",
        "- If you want to modify the original DataFrame, you can use the argument `inplace = True`. You can also assign the resulting DataFrame to a new variable.\n",
        "\n",
        "<br>\n",
        "<br>\n",
        "\n",
        "Using what we just learned, let's answer our first question--i.e., what percentage of American adults meditate?"
      ],
      "metadata": {
        "id": "NN3qBWlJKEjv"
      }
    },
    {
      "cell_type": "code",
      "source": [
        "df.query('MEDITATE_A == \"Yes\"').shape[0] / df['MEDITATE_A'].dropna().shape[0]"
      ],
      "metadata": {
        "id": "slsVUuRg-d4u"
      },
      "execution_count": null,
      "outputs": []
    },
    {
      "cell_type": "markdown",
      "source": [
        "This line of code includes two other methods besides `df.query`. You may or may not be familiar with those. Don't worry if you're not. They're not essential for this notebook. However, if you're curious, [`df.shape`](https://pandas.pydata.org/docs/reference/api/pandas.DataFrame.shape.html) returns a tuple representing the dimensionality of the DataFrame and [`df.dropna`](https://pandas.pydata.org/docs/reference/api/pandas.DataFrame.dropna.html) removes missing values. What we're doing is getting the number of rows for people who meditate (`df.query('MEDITATE_A == \"Yes\"').shape[0]`) and diving them by the number of rows in the DataFrame where `MEDITATE_A` is not missing (`df['MEDITATE_A'].dropna().shape[0]`). That gives us an estimate of the percentage of American adults who meditate... about 20%!\n",
        "\n",
        "<br>\n",
        "<br>\n",
        "\n",
        "**Exercise 1:**\n",
        "\n",
        "How many rows does the Iris DataFrame has for setosa? Use `df.query` to get only the rows for which the `target` is \"setosa\".\n",
        "\n",
        "Remember that the DataFrame for the exercises is called `df_exercises`."
      ],
      "metadata": {
        "id": "AzEQ9z0fctI6"
      }
    },
    {
      "cell_type": "code",
      "source": [],
      "metadata": {
        "id": "UNTwgWNNCCHB"
      },
      "execution_count": null,
      "outputs": []
    },
    {
      "cell_type": "markdown",
      "source": [
        "<br>\n",
        "<br>\n",
        "\n",
        "**Filtering on two conditions:**"
      ],
      "metadata": {
        "id": "JDlST4ENB_Q6"
      }
    },
    {
      "cell_type": "code",
      "source": [
        "df.query('MEDITATE_A == \"Yes\" or YOGAMED_A == \"Yes\"').shape[0] / df[['MEDITATE_A', 'YOGAMED_A']].dropna(how = 'all').shape[0]"
      ],
      "metadata": {
        "id": "L_qCk_Hw_G0v"
      },
      "execution_count": null,
      "outputs": []
    },
    {
      "cell_type": "markdown",
      "source": [
        "The percentage of Americans who meditate is actually about 23% if we included people who meditate as part of yoga... but let's not worry about that!<br><br>\n",
        "\n",
        "Notice that this code uses `or`. You can also use `|`, `and`, and `&`.\n",
        "\n",
        "An equivalent way to filter rows in the code above is `df[(df['MEDITATE_A'] == \"Yes\") | (df['YOGAMED_A'] == \"Yes\")]`.\n",
        "\n",
        "<br>\n",
        "<br>\n",
        "\n",
        "**Filtering based on a numerical column:**\n",
        "\n",
        "Now let's answer our second questions: what percentage of college-age American adults meditate?"
      ],
      "metadata": {
        "id": "1iuXzwBTdDTl"
      }
    },
    {
      "cell_type": "code",
      "source": [
        "df.query('AGEP_A < 22')"
      ],
      "metadata": {
        "id": "mKaffYHIIiHG"
      },
      "execution_count": null,
      "outputs": []
    },
    {
      "cell_type": "markdown",
      "source": [
        "Notice that for numerical columns, you don't use quotation marks inside the query. It's `'AGEP_A < 22'`, not `'AGEP_A < \"22\"'`.\n",
        "\n",
        "Other operators such as `>`, `>=`, `<=`, and `!=` are also supported.\n",
        "\n",
        "<br>\n",
        "<br>\n",
        "\n",
        "An equivalent way to filter rows in the code above is `df[df['AGEP_A'] < 22]`.\n",
        "\n",
        "<br>\n",
        "<br>\n",
        "\n",
        "The code above didn't actually answer our question--it simply returned a DataFrame with the rows where `AGEP_A < 22`. Now let's use some more Pandas to get the answer..."
      ],
      "metadata": {
        "id": "uavOlNgJBcWY"
      }
    },
    {
      "cell_type": "code",
      "source": [
        "df.query('AGEP_A < 22')['MEDITATE_A'].value_counts(normalize = True)"
      ],
      "metadata": {
        "id": "udavLiwiHeVh"
      },
      "execution_count": null,
      "outputs": []
    },
    {
      "cell_type": "markdown",
      "source": [
        "About 17% of American adults under the age of 22 meditate. Seems less than in the overall population!\n",
        "\n",
        "In this code, we're selecting the column `MEDITATE_A` from the resulting DataFrame (`df.query('AGEP_A < 22')['MEDITATE_A']`). We're then using [`value_counts`](https://pandas.pydata.org/docs/reference/api/pandas.Series.value_counts.html) to get the proportion of rows for each unique value. Notice that we specified `normalize = True`. If you don't specify that, you get counts instead of proportions.\n",
        "\n",
        "<br>\n",
        "<br>\n",
        "\n",
        "**Exercise 2:**\n",
        "\n",
        "How many rows does the Iris DataFrame has for setosa with a petal width smaller than or equal to 0.2? Use `df.query` to get only the rows for which the `target` is \"setosa\" *and* the `petal_width` is equal to or less than 0.2."
      ],
      "metadata": {
        "id": "GfQkjnJedjSq"
      }
    },
    {
      "cell_type": "code",
      "source": [],
      "metadata": {
        "id": "jJXibRoEChVb"
      },
      "execution_count": null,
      "outputs": []
    },
    {
      "cell_type": "markdown",
      "source": [
        "<br>\n",
        "<br>\n",
        "\n",
        "**Filtering using `in ['element_1', ..., 'element_n']`:**\n",
        "\n",
        "Let's move unto our third question: what percentage of Americans in large metropolitan areas meditate?"
      ],
      "metadata": {
        "id": "5LZ6Bv-0CjaB"
      }
    },
    {
      "cell_type": "code",
      "source": [
        "# As a reminder, URBRRL is the 2013 NCHS Urban-Rural Classification Scheme for Counties\n",
        "df.query('URBRRL in [\"Large central metro\", \"Large fringe metro\"]')"
      ],
      "metadata": {
        "id": "9hQQgLWqLSXa"
      },
      "execution_count": null,
      "outputs": []
    },
    {
      "cell_type": "markdown",
      "source": [
        "Notice the syntax here: `'column_name in [list_of_values]'`.\n",
        "\n",
        "An alternative way to write this code is `df[df['URBRRL'].isin([\"Large central metro\", \"Large fringe metro\"])]`.\n",
        "\n",
        "<br>\n",
        "<br>\n",
        "\n",
        "And the answer to our question is..."
      ],
      "metadata": {
        "id": "XOs32mREBuVq"
      }
    },
    {
      "cell_type": "code",
      "source": [
        "df.query('URBRRL in [\"Large central metro\", \"Large fringe metro\"]')['MEDITATE_A'].value_counts(normalize = True)"
      ],
      "metadata": {
        "id": "8R7kDVjXLid0"
      },
      "execution_count": null,
      "outputs": []
    },
    {
      "cell_type": "markdown",
      "source": [
        "About 22% of American adults in large metropolitan areas meditate. Seems a bit higher than in the overall population!\n",
        "\n",
        "<br>\n",
        "<br>\n",
        "\n",
        "**Exercise 3:**\n",
        "\n",
        "How many rows does the Iris DataFrame has for setosa or virginica? Use `df.query` to get only the rows for which the `target` is \"setosa\" *or* \"virginica\".\n",
        "\n",
        "Bonus: try implementing this in three different ways!"
      ],
      "metadata": {
        "id": "g9PNekBnMdQe"
      }
    },
    {
      "cell_type": "code",
      "source": [],
      "metadata": {
        "id": "FJgP3VMGEX_c"
      },
      "execution_count": null,
      "outputs": []
    },
    {
      "cell_type": "code",
      "source": [],
      "metadata": {
        "id": "Y2m9EzsGosdb"
      },
      "execution_count": null,
      "outputs": []
    },
    {
      "cell_type": "code",
      "source": [],
      "metadata": {
        "id": "ZCnic59aosxH"
      },
      "execution_count": null,
      "outputs": []
    },
    {
      "cell_type": "markdown",
      "source": [
        "<br>\n",
        "<br>\n",
        "<br>\n",
        "\n",
        "## `df.eval`\n",
        "\n",
        "`df.eval` is one way to describe operations over columns of a Pandas DataFrame.\n",
        "\n",
        "As previously explained, you may find `df.eval` more intuitive or easier to understand. You may also encounter this syntax in other people's code. Finally, there may be some [efficiency gains](https://jakevdp.github.io/PythonDataScienceHandbook/03.12-performance-eval-and-query.html).\n",
        "\n",
        "<br>\n",
        "<br>\n",
        "\n",
        "**Finding the sum of two columns:**\n",
        "\n",
        "Before being familiar with `df.eval`, how would you find the sum of two columns in a DataFrame? You'd probably do this:"
      ],
      "metadata": {
        "id": "icWwVdtud3Wt"
      }
    },
    {
      "cell_type": "code",
      "source": [
        "df['PCNTADLT_A'] + df['PCNTKIDS_A']"
      ],
      "metadata": {
        "id": "mjgF46fmP5Dv"
      },
      "execution_count": null,
      "outputs": []
    },
    {
      "cell_type": "markdown",
      "source": [
        "Good news! Now you have another way to go about it:"
      ],
      "metadata": {
        "id": "c7OP0U-mQDWT"
      }
    },
    {
      "cell_type": "code",
      "source": [
        "df.eval('PCNTADLT_A + PCNTKIDS_A')"
      ],
      "metadata": {
        "id": "c-NlbndxUnIb"
      },
      "execution_count": null,
      "outputs": []
    },
    {
      "cell_type": "markdown",
      "source": [
        "Notice that the expression to evaluate goes inside quotation marks. Similarly to `query`, you can use both `'` and `\"`.\n",
        "\n",
        "This code uses `+`. Other operators such as `-`, `*`, and `/` are also supported (see [documentation of `pd.eval`](https://pandas.pydata.org/docs/reference/api/pandas.eval.html#pandas.eval) for all supported operations).\n",
        "\n",
        "<br>\n",
        "<br>\n",
        "\n",
        "**Creating new column based on the sum of two existing columns:**"
      ],
      "metadata": {
        "id": "hH_KAsdCd7vl"
      }
    },
    {
      "cell_type": "code",
      "source": [
        "df.eval('count_people_household = PCNTADLT_A + PCNTKIDS_A')"
      ],
      "metadata": {
        "id": "CLuxmKOfVAu1"
      },
      "execution_count": null,
      "outputs": []
    },
    {
      "cell_type": "markdown",
      "source": [
        "Notice that this code assigns the result of the evaluation to a new column (`count_people_household`) within the quotation marks. By default, the column is located at the end of the DataFrame.\n",
        "\n",
        "<br>\n",
        "<br>\n",
        "\n",
        "**Modifying DataFrame inplace:**\n",
        "\n",
        "We're going to use `df.eval` to answer our final question: does the percentage of Americans who meditate depend on the number of people living in the household? Before getting to that, however, it's worth pointing out that we haven't modified `df` so far:"
      ],
      "metadata": {
        "id": "_A3pjgJiebqa"
      }
    },
    {
      "cell_type": "code",
      "source": [
        "df"
      ],
      "metadata": {
        "id": "lYuG99I1f1CI"
      },
      "execution_count": null,
      "outputs": []
    },
    {
      "cell_type": "markdown",
      "source": [
        "See? By default, `df.eval` doesn't modify the dataset. You need to specify `inplace = True`:"
      ],
      "metadata": {
        "id": "PnzwTV3mf24R"
      }
    },
    {
      "cell_type": "code",
      "source": [
        "df.eval('count_people_household = PCNTADLT_A + PCNTKIDS_A', inplace = True)\n",
        "df"
      ],
      "metadata": {
        "id": "fdGyu4XSmhmT"
      },
      "execution_count": null,
      "outputs": []
    },
    {
      "cell_type": "markdown",
      "source": [
        "Similarly to `query`, you can modify the DataFrame inplace by using the argument `inplace = True`.\n",
        "\n",
        "An alternative way to write the code above would be `df['count_people_household'] = df['PCNTADLT_A'] + df['PCNTKIDS_A']`.\n",
        "\n",
        "<br>\n",
        "<br>\n",
        "\n",
        "We have our DataFrame. Now let's use a bit more Python and Pandas to answer our question:"
      ],
      "metadata": {
        "id": "vCcriOPdmoZO"
      }
    },
    {
      "cell_type": "code",
      "source": [
        "for value in np.sort(df['count_people_household'].dropna().unique()):\n",
        "  print(value, \":\")\n",
        "  print(df.query('count_people_household == ' + str(value))['MEDITATE_A'].value_counts(normalize = True), '\\n')"
      ],
      "metadata": {
        "id": "n9t_yxjAVays"
      },
      "execution_count": null,
      "outputs": []
    },
    {
      "cell_type": "markdown",
      "source": [
        "The percentage of American adults who meditate doesn't seem to be related to the number of people living in the household!\n",
        "\n",
        "This code has a lot of elements, so let's unpack it. We're iterating over the values of `count_people_household` to filter the DataFrame and output the results:\n",
        "- `df['count_people_household']` selects `count_people_household` from the DataFrame.\n",
        "- `.dropna()` keeps only the rows where `count_people_household` is not missing.\n",
        "- `.unique()` returns only the unique values of `count_people_household`.\n",
        "- `np.sort` sorts the result of `df['count_people_household'].dropna().unique()` so that it's easier to interpret the results.\n",
        "- `print(value, \":\")` helps us print each value in a way that makes our for-loop readable.\n",
        "- `str(value)` turns the numeric value into a string and we then use that string within `df.query('count_people_household == ' + str(value))` to filter the rows of the DataFrame where `count_people_household` takes on that value.\n",
        "- We then select the column `MEDITATE_A` and get proportions using the same method than before (`['MEDITATE_A'].value_counts(normalize = True)`).\n",
        "- Finally, we add `'\\n'` to the the `print` statement to make the results of the for-loop more readable.\n",
        "\n",
        "<br>\n",
        "<br>\n",
        "\n",
        "**Exercise 4:**\n",
        "\n",
        "What's the ratio of petal length by petal width? Use `df.eval` to create a new column called `my_division`, which is the result of dividing `petal_length` by `petal_width`. Modify `df_exercises` inplace."
      ],
      "metadata": {
        "id": "b2FmGh0Fi_cV"
      }
    },
    {
      "cell_type": "code",
      "source": [],
      "metadata": {
        "id": "Kn7zbiwUEg_S"
      },
      "execution_count": null,
      "outputs": []
    },
    {
      "cell_type": "markdown",
      "source": [
        "<br>\n",
        "<br>\n",
        "<br>\n",
        "\n",
        "## Resources to continue learning:\n",
        "- Pandas documentation\n",
        "  - [df.query](https://pandas.pydata.org/docs/reference/api/pandas.DataFrame.query.html)\n",
        "  - [df.eval](https://pandas.pydata.org/docs/reference/api/pandas.DataFrame.eval.html)\n",
        "- Free tutorials\n",
        "  - [df.query](https://www.askpython.com/python-modules/pandas/query-pandas-dataframe)\n",
        "  - [pd.eval](https://www.askpython.com/python-modules/pandas/pandas-eval)\n",
        "\n",
        "<br>\n",
        "<br>\n",
        "<br>\n",
        "\n",
        "## Exercises to continue practicing:\n",
        "\n",
        "Some slightly more challenging exercises.\n",
        "\n",
        "Remember that the DataFrame for the exercises is called `df_exercises`.\n",
        "\n",
        "<br>\n",
        "<br>\n",
        "\n",
        "**Exercise 5:**\n",
        "\n",
        "How many rows does the Iris DataFrame has for flowers with sepal length equal to 5.1? Use `df.query` to filter the rows for which the column `sepal length` is equal to 5.1. You may want to take a look at the [documentation of `df.query`](https://pandas.pydata.org/docs/reference/api/pandas.DataFrame.query.html) to figure out how to do this."
      ],
      "metadata": {
        "id": "FjOf8SNkEj45"
      }
    },
    {
      "cell_type": "code",
      "source": [],
      "metadata": {
        "id": "MxpYj78lN-SW"
      },
      "execution_count": null,
      "outputs": []
    },
    {
      "cell_type": "markdown",
      "source": [
        "**Exercise 6:**\n",
        "\n",
        "Re-write this code using `df.query`:\n",
        "```\n",
        "df_exercises[(df_exercises['petal_length'] == 1.4) | (df_exercises['petal_width'] == 1.1)]\n",
        "```"
      ],
      "metadata": {
        "id": "gPD1NLxkN-uf"
      }
    },
    {
      "cell_type": "code",
      "source": [],
      "metadata": {
        "id": "MNIv7Gd-OXCk"
      },
      "execution_count": null,
      "outputs": []
    },
    {
      "cell_type": "markdown",
      "source": [
        "**Exercise 7:**\n",
        "\n",
        "Re-write this code using `df.query`:\n",
        "```\n",
        "df_exercises[df_exercises['petal_width'].between(0.2, 2.3)]\n",
        "```\n",
        "Bonus: try implementing this in two different ways!"
      ],
      "metadata": {
        "id": "uBn2vjmaPOex"
      }
    },
    {
      "cell_type": "code",
      "source": [],
      "metadata": {
        "id": "7dNug3yrPPBd"
      },
      "execution_count": null,
      "outputs": []
    },
    {
      "cell_type": "code",
      "source": [],
      "metadata": {
        "id": "hk2LHpp0PqoV"
      },
      "execution_count": null,
      "outputs": []
    },
    {
      "cell_type": "markdown",
      "source": [
        "**Exercise 8:**\n",
        "\n",
        "Re-write this code using `df.eval`:\n",
        "```\n",
        "df_exercises['new_col'] = df_exercises['petal_length'] + df_exercises['petal_width']\n",
        "```"
      ],
      "metadata": {
        "id": "BHI6FWbtRPFe"
      }
    },
    {
      "cell_type": "code",
      "source": [],
      "metadata": {
        "id": "M-m9awvYRdJ0"
      },
      "execution_count": null,
      "outputs": []
    },
    {
      "cell_type": "markdown",
      "source": [
        "**Exercise 9:**\n",
        "\n",
        "Re-write this code using `df.eval` **only once**:\n",
        "```\n",
        "df_exercises['new_col_2'] = df_exercises['petal_length'] * 2\n",
        "df_exercises['new_col_3'] = df_exercises['sepal length'] + df_exercises['sepal width']\n",
        "```\n",
        "You may want to take a look at the [documentation of `df.eval`](https://pandas.pydata.org/docs/reference/api/pandas.DataFrame.eval.html)."
      ],
      "metadata": {
        "id": "meet3sIaSPZ1"
      }
    },
    {
      "cell_type": "code",
      "source": [],
      "metadata": {
        "id": "SA6bWmuySnw2"
      },
      "execution_count": null,
      "outputs": []
    },
    {
      "cell_type": "markdown",
      "source": [
        "<br>\n",
        "<br>\n",
        "<br>\n",
        "\n",
        "## Solutions to the exercises:\n",
        "\n",
        "**Exercise 1:**"
      ],
      "metadata": {
        "id": "6f4JjTPSOa2o"
      }
    },
    {
      "cell_type": "code",
      "source": [
        "df_exercises.query('target == \"setosa\"')"
      ],
      "metadata": {
        "id": "Zc3PBR3O_Vvf"
      },
      "execution_count": null,
      "outputs": []
    },
    {
      "cell_type": "markdown",
      "source": [
        "**Exercise 2:**"
      ],
      "metadata": {
        "id": "-jW5pXtyOloY"
      }
    },
    {
      "cell_type": "code",
      "source": [
        "df_exercises.query('target == \"setosa\" and petal_width <= 0.2')"
      ],
      "metadata": {
        "id": "LO7ehh_iHdFC"
      },
      "execution_count": null,
      "outputs": []
    },
    {
      "cell_type": "markdown",
      "source": [
        "**Exercise 3:**"
      ],
      "metadata": {
        "id": "ng6wpFcfOons"
      }
    },
    {
      "cell_type": "code",
      "source": [
        "df_exercises.query(\"target in ['setosa', 'virginica']\")"
      ],
      "metadata": {
        "id": "JT9S76dLIgyQ"
      },
      "execution_count": null,
      "outputs": []
    },
    {
      "cell_type": "code",
      "source": [
        "df_exercises.query(\"target == 'setosa' or target == 'virginica'\")"
      ],
      "metadata": {
        "id": "gjbBbg5kLhJY"
      },
      "execution_count": null,
      "outputs": []
    },
    {
      "cell_type": "code",
      "source": [
        "df_exercises.query(\"target != 'versicolour'\")"
      ],
      "metadata": {
        "id": "NSX0kAx3IqWX"
      },
      "execution_count": null,
      "outputs": []
    },
    {
      "cell_type": "markdown",
      "source": [
        "**Exercise 4:**"
      ],
      "metadata": {
        "id": "1AzpoX32OtYd"
      }
    },
    {
      "cell_type": "code",
      "source": [
        "df_exercises.eval('my_division = petal_length / petal_width', inplace = True)"
      ],
      "metadata": {
        "id": "ut2rINR3Is0E"
      },
      "execution_count": null,
      "outputs": []
    },
    {
      "cell_type": "markdown",
      "source": [
        "**Exercise 5:**"
      ],
      "metadata": {
        "id": "VVZdgi8SOvPq"
      }
    },
    {
      "cell_type": "code",
      "source": [
        "df_exercises.query('`sepal length` == 5.1')"
      ],
      "metadata": {
        "id": "0uGp-l5dJIIK"
      },
      "execution_count": null,
      "outputs": []
    },
    {
      "cell_type": "markdown",
      "source": [
        "**Exercise 6:**"
      ],
      "metadata": {
        "id": "Xt4PPbgaOxfw"
      }
    },
    {
      "cell_type": "code",
      "source": [
        "df_exercises.query('petal_length == 1.4 or petal_width == 1.1')"
      ],
      "metadata": {
        "id": "yS6UcBZMJYk9"
      },
      "execution_count": null,
      "outputs": []
    },
    {
      "cell_type": "code",
      "source": [
        "df_exercises.query('petal_length == 1.4 | petal_width == 1.1')"
      ],
      "metadata": {
        "id": "g5X2He_rKDxR"
      },
      "execution_count": null,
      "outputs": []
    },
    {
      "cell_type": "markdown",
      "source": [
        "**Exercise 7:**"
      ],
      "metadata": {
        "id": "qJySmLlpP3mV"
      }
    },
    {
      "cell_type": "code",
      "source": [
        "df_exercises.query('0.2 <= petal_width <= 2.3')"
      ],
      "metadata": {
        "id": "I39Vi-VpP5a2"
      },
      "execution_count": null,
      "outputs": []
    },
    {
      "cell_type": "code",
      "source": [
        "df_exercises.query('petal_width >= 0.2 and petal_width <= 2.3')"
      ],
      "metadata": {
        "id": "zWrRTUAGP6W-"
      },
      "execution_count": null,
      "outputs": []
    },
    {
      "cell_type": "markdown",
      "source": [
        "**Exercise 8:**"
      ],
      "metadata": {
        "id": "Xkme1ZF-QTRi"
      }
    },
    {
      "cell_type": "code",
      "source": [
        "df_exercises.eval('new_col = petal_length + petal_width', inplace = True)"
      ],
      "metadata": {
        "id": "P74oE0R_Rwfo"
      },
      "execution_count": null,
      "outputs": []
    },
    {
      "cell_type": "markdown",
      "source": [
        "**Exercise 9:**"
      ],
      "metadata": {
        "id": "gMaEOZ6jUPfz"
      }
    },
    {
      "cell_type": "code",
      "source": [
        "df_exercises.eval(\n",
        "    \"\"\"\n",
        "    new_col_2 = petal_length * 2\n",
        "    new_col_3 = `sepal length` + `sepal width`\n",
        "    \"\"\",\n",
        "    inplace = True\n",
        ")"
      ],
      "metadata": {
        "id": "fPZ6Gvh4UQlF"
      },
      "execution_count": null,
      "outputs": []
    }
  ]
}